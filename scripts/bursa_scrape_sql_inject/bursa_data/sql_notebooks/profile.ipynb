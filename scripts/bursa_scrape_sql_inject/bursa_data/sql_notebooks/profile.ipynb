{
 "cells": [
  {
   "cell_type": "code",
   "execution_count": 23,
   "id": "68e38627",
   "metadata": {},
   "outputs": [],
   "source": [
    "import pandas as pd"
   ]
  },
  {
   "cell_type": "code",
   "execution_count": 24,
   "id": "11608ec8",
   "metadata": {},
   "outputs": [],
   "source": [
    "csv = pd.read_csv(\"../combined_profile.csv\",keep_default_na=True,na_values=[\"None\", \"none\", \"NaN\", \"-\"],low_memory=False,dtype={\"company_id\": str})\n",
    "csv[\"company_id\"] = csv[\"company_id\"].astype(str)"
   ]
  },
  {
   "cell_type": "code",
   "execution_count": 25,
   "id": "30d1554f",
   "metadata": {},
   "outputs": [],
   "source": [
    "df = csv\n",
    "bad_ids = df[~df[\"company_id\"].str.fullmatch(r\"\\d{4}\")]"
   ]
  },
  {
   "cell_type": "code",
   "execution_count": 26,
   "id": "2c03631b",
   "metadata": {},
   "outputs": [],
   "source": [
    "# Ensure company_id is string\n",
    "csv[\"company_id\"] = csv[\"company_id\"].astype(str)\n",
    "\n",
    "# Detect bad IDs (not exactly 4 digits)\n",
    "bad_mask = ~csv[\"company_id\"].str.fullmatch(r\"\\d{4}\")\n",
    "\n",
    "# Fix only the bad ones\n",
    "csv.loc[bad_mask, \"company_id\"] = csv.loc[bad_mask, \"company_id\"].str.zfill(4)"
   ]
  },
  {
   "cell_type": "code",
   "execution_count": 27,
   "id": "a9de637a",
   "metadata": {},
   "outputs": [],
   "source": [
    "df = csv"
   ]
  },
  {
   "cell_type": "code",
   "execution_count": 28,
   "id": "4d2dac08",
   "metadata": {},
   "outputs": [],
   "source": [
    "merged = df"
   ]
  },
  {
   "cell_type": "code",
   "execution_count": 29,
   "id": "47bab468",
   "metadata": {},
   "outputs": [],
   "source": [
    "bursa_registration = pd.read_csv(\"../matched_companies_from_ssm.csv\",dtype={\"company_id\": str,\"companyNo\": str})\n",
    "bursa_registration[\"companyNo\"] = (\n",
    "    bursa_registration[\"companyNo\"]\n",
    "    .astype(str)\n",
    "    .str.replace(r\"\\.0$\", \"\", regex=True)\n",
    "    .str.strip()\n",
    ")\n",
    "\n"
   ]
  },
  {
   "cell_type": "code",
   "execution_count": 30,
   "id": "fc0a9031",
   "metadata": {},
   "outputs": [],
   "source": [
    "company_id = pd.read_csv(\"../../../list_bursa_ids/bursa_company_list.csv\", dtype={\"company_id\": str})\n",
    "company_id[\"company_id\"] = company_id[\"company_id\"].str.strip().str.zfill(4)\n"
   ]
  },
  {
   "cell_type": "code",
   "execution_count": 31,
   "id": "b3f03a3d",
   "metadata": {},
   "outputs": [],
   "source": [
    "merge = pd.merge(bursa_registration,company_id,on=\"company_name\",how=\"inner\")"
   ]
  },
  {
   "cell_type": "code",
   "execution_count": 32,
   "id": "ad696401",
   "metadata": {},
   "outputs": [],
   "source": [
    "merge = merge.drop(columns=\"company_type\")\n",
    "merge = merge.rename(columns={\n",
    "    \"company_name\": \"company_name_bursa\",\n",
    "    \"name_db\": \"company_name_api\",\n",
    "    \"companyNo\": \"registration_number\",\n",
    "    \"oldCompanyNo\": \"old_registration_number\"\n",
    "})"
   ]
  },
  {
   "cell_type": "code",
   "execution_count": 33,
   "id": "bca128b3",
   "metadata": {},
   "outputs": [],
   "source": [
    "merged = df"
   ]
  },
  {
   "cell_type": "code",
   "execution_count": 34,
   "id": "0292c7ff",
   "metadata": {},
   "outputs": [],
   "source": [
    "merge[\"company_id\"] = merge[\"company_id\"].str.strip()\n",
    "merged[\"company_id\"] = merged[\"company_id\"].str.strip()"
   ]
  },
  {
   "cell_type": "code",
   "execution_count": 35,
   "id": "b4cb80d2",
   "metadata": {},
   "outputs": [],
   "source": [
    "merge[\"company_id\"] = merge[\"company_id\"].astype(str)\n",
    "merged[\"company_id\"] = merged[\"company_id\"].astype(str)\n",
    "final_merge = merge.merge(merged, on=\"company_id\", how=\"inner\")"
   ]
  },
  {
   "cell_type": "code",
   "execution_count": 36,
   "id": "7960103a",
   "metadata": {},
   "outputs": [],
   "source": [
    "market_cap = pd.read_csv(\"../market_info_sample.csv\",dtype={\"company_id\": str})\n",
    "market_cap = market_cap[['company_id','market_cap_mil']]\n"
   ]
  },
  {
   "cell_type": "code",
   "execution_count": 37,
   "id": "ca2daf30",
   "metadata": {},
   "outputs": [],
   "source": [
    "final_merge = pd.merge(final_merge,market_cap, on=\"company_id\", how=\"left\")"
   ]
  },
  {
   "cell_type": "code",
   "execution_count": 38,
   "id": "2245abf1",
   "metadata": {},
   "outputs": [],
   "source": [
    "df=final_merge"
   ]
  },
  {
   "cell_type": "code",
   "execution_count": 39,
   "id": "afaedc94",
   "metadata": {},
   "outputs": [],
   "source": [
    "# ── Your DataFrame ──\n",
    "df = df.copy()\n",
    "df.columns = df.columns.str.replace(\"-\", \" \").str.strip().str.strip().str.lower().str.replace(\" \", \"_\").str.replace(\"-\", \"_\")"
   ]
  },
  {
   "cell_type": "code",
   "execution_count": 40,
   "id": "ac3eafb7",
   "metadata": {},
   "outputs": [],
   "source": [
    "import re\n",
    "df.columns = (\n",
    "    df.columns\n",
    "    .str.replace(\"-\", \" \", regex=False)        # Replace hyphens with spaces\n",
    "    .str.replace(\"/\", \" \", regex=False) \n",
    "    .str.strip()\n",
    "    .str.lower()\n",
    "    .str.replace(r\"[^\\w\\s]\", \"\", regex=True)   # Remove non-word characters like . , &\n",
    "    .str.replace(r\"\\s+\", \"_\", regex=True)      # Convert spaces to single underscore\n",
    "    .str.replace(r\"_+\", \"_\", regex=True)       # Collapse multiple underscores to one\n",
    ")"
   ]
  },
  {
   "cell_type": "code",
   "execution_count": 41,
   "id": "e1d069d7",
   "metadata": {},
   "outputs": [],
   "source": [
    "df = df.dropna(subset=[\"registration_number\"])"
   ]
  },
  {
   "cell_type": "code",
   "execution_count": 42,
   "id": "7f2bb8db",
   "metadata": {},
   "outputs": [
    {
     "name": "stdout",
     "output_type": "stream",
     "text": [
      "Duplicate columns: []\n"
     ]
    }
   ],
   "source": [
    "# Check for duplicate column names\n",
    "duplicates = df.columns[df.columns.duplicated()]\n",
    "print(\"Duplicate columns:\", duplicates.tolist())\n",
    "df = df.loc[:, ~df.columns.duplicated()]"
   ]
  },
  {
   "cell_type": "code",
   "execution_count": 43,
   "id": "a824ab3d",
   "metadata": {},
   "outputs": [],
   "source": [
    "df = df.drop(columns=\"source_file\")\n",
    "df = df.drop(columns=\"match_score\")\n"
   ]
  },
  {
   "cell_type": "code",
   "execution_count": 44,
   "id": "a18c23fe",
   "metadata": {},
   "outputs": [],
   "source": [
    "# Get null ratios sorted\n",
    "null_ratios = df.isnull().mean().sort_values(ascending=False)\n",
    "\n",
    "# Convert to DataFrame with formatted percentage\n",
    "summary_df = pd.DataFrame({\n",
    "    \"column\": null_ratios.index,\n",
    "    \"null_ratio\": (null_ratios * 100).map(\"{:.2f}%\".format)\n",
    "})\n",
    "\n",
    "# Save to CSV\n",
    "summary_df.to_csv(\"../../column_percentages/profile_null_ratio_summary.csv\", index=False)\n",
    "# summary_df.head()"
   ]
  },
  {
   "cell_type": "code",
   "execution_count": null,
   "id": "7d0b7351",
   "metadata": {},
   "outputs": [],
   "source": []
  }
 ],
 "metadata": {
  "kernelspec": {
   "display_name": ".venv",
   "language": "python",
   "name": "python3"
  },
  "language_info": {
   "codemirror_mode": {
    "name": "ipython",
    "version": 3
   },
   "file_extension": ".py",
   "mimetype": "text/x-python",
   "name": "python",
   "nbconvert_exporter": "python",
   "pygments_lexer": "ipython3",
   "version": "3.12.1"
  }
 },
 "nbformat": 4,
 "nbformat_minor": 5
}
